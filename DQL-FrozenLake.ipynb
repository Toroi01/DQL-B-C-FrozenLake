{
 "cells": [
  {
   "cell_type": "code",
   "execution_count": 57,
   "metadata": {
    "colab": {},
    "colab_type": "code",
    "id": "Fb4RQPYsIU9B"
   },
   "outputs": [],
   "source": [
    "# SOFTMAX = False\n",
    "# EPSILON = True\n",
    "# COUNT = False\n",
    "\n",
    "# SOFTMAX = True\n",
    "# EPSILON = False\n",
    "# COUNT = False\n",
    "\n",
    "# SOFTMAX = False\n",
    "# EPSILON = True\n",
    "# COUNT = True\n",
    "\n",
    "SOFTMAX = True\n",
    "EPSILON = False\n",
    "COUNT = True"
   ]
  },
  {
   "cell_type": "markdown",
   "metadata": {
    "colab_type": "text",
    "id": "R7vNAVjC1-Wh"
   },
   "source": [
    "# Imports"
   ]
  },
  {
   "cell_type": "code",
   "execution_count": 58,
   "metadata": {
    "colab": {},
    "colab_type": "code",
    "id": "sti-qJ1e1-Wj"
   },
   "outputs": [],
   "source": [
    "%matplotlib inline\n",
    "import gym\n",
    "from gym.envs.toy_text.frozen_lake import MAPS\n",
    "import math\n",
    "import random\n",
    "import numpy as np\n",
    "import matplotlib\n",
    "import matplotlib.pyplot as plt\n",
    "from collections import namedtuple\n",
    "from itertools import count\n",
    "from PIL import Image\n",
    "import torch\n",
    "import torch.nn as nn\n",
    "import torch.optim as optim\n",
    "import torch.nn.functional as F\n",
    "import torchvision as T    \n",
    "import cv2\n",
    "from torch.nn import Linear, ReLU, CrossEntropyLoss, Sequential, Conv2d, MaxPool2d, Module, Softmax, BatchNorm2d, Dropout\n",
    "import warnings\n",
    "warnings.filterwarnings('ignore')"
   ]
  },
  {
   "cell_type": "markdown",
   "metadata": {
    "colab_type": "text",
    "id": "NviTu9mG1-Wu"
   },
   "source": [
    "# Set up display"
   ]
  },
  {
   "cell_type": "code",
   "execution_count": 59,
   "metadata": {
    "colab": {},
    "colab_type": "code",
    "id": "N9-2paqy1-Wz"
   },
   "outputs": [],
   "source": [
    "is_ipython = 'inline' in matplotlib.get_backend()\n",
    "if is_ipython: from IPython import display"
   ]
  },
  {
   "cell_type": "markdown",
   "metadata": {
    "colab_type": "text",
    "id": "Ih6A_SKI1-W8"
   },
   "source": [
    "# Deep Q-Network"
   ]
  },
  {
   "cell_type": "code",
   "execution_count": 60,
   "metadata": {
    "colab": {},
    "colab_type": "code",
    "id": "EynZ-NuY1-W9"
   },
   "outputs": [],
   "source": [
    "class DQN(nn.Module):\n",
    "    def __init__(self, input_channels, num_actions):\n",
    "        super().__init__()\n",
    "\n",
    "        self.conv1 = nn.Conv2d(input_channels,32,5)\n",
    "        self.bn1 = nn.BatchNorm2d(32)\n",
    "        self.pool = nn.MaxPool2d(2, 2)\n",
    "        self.pool2 = nn.MaxPool2d(2, 2)\n",
    "        self.conv2 = nn.Conv2d(32,16,5)\n",
    "        self.bn2 = nn.BatchNorm2d(16)\n",
    "\n",
    "        self.fc1 = nn.Linear(16*13*13, 30)\n",
    "        self.fc2 = nn.Linear(30, 10)\n",
    "        self.fc3 = nn.Linear(10, num_actions)\n",
    "        \n",
    "        # self.fc1 = nn.Linear(in_features=map_height*map_width*3, out_features=16)   \n",
    "        # self.fc2 = nn.Linear(in_features=16, out_features=32)\n",
    "        # self.out = nn.Linear(in_features=32, out_features=num_actions)\n",
    "\n",
    "    def forward(self, t):\n",
    "        # t = t.flatten(start_dim=1)\n",
    "        # t = F.relu(self.fc1(t))\n",
    "        # t = F.relu(self.fc2(t))\n",
    "        # t = self.out(t)\n",
    "\n",
    "        t = self.pool(self.bn1(F.relu(self.conv1(t))))\n",
    "        t = self.pool2(self.bn2(F.relu(self.conv2(t))))\n",
    "#         print(t.shape)\n",
    "        t = t.view(-1,16*13*13)\n",
    "        t = F.relu(self.fc1(t))\n",
    "        t = F.relu(self.fc2(t))\n",
    "        t = self.fc3(t)\n",
    "\n",
    "        return t"
   ]
  },
  {
   "cell_type": "markdown",
   "metadata": {
    "colab_type": "text",
    "id": "h2MdEoZe1-XF"
   },
   "source": [
    "# Experience class"
   ]
  },
  {
   "cell_type": "code",
   "execution_count": 61,
   "metadata": {
    "colab": {},
    "colab_type": "code",
    "id": "ktk4lJdl1-XG"
   },
   "outputs": [],
   "source": [
    "Experience = namedtuple('Experience',('state', 'action', 'next_state', 'reward','terminated'))"
   ]
  },
  {
   "cell_type": "markdown",
   "metadata": {
    "colab_type": "text",
    "id": "f9EilwdR1-XS"
   },
   "source": [
    "# Replay Memory class"
   ]
  },
  {
   "cell_type": "code",
   "execution_count": 62,
   "metadata": {
    "colab": {},
    "colab_type": "code",
    "id": "5mK9zlAf1-XU"
   },
   "outputs": [],
   "source": [
    "class ReplayMemory():\n",
    "    def __init__(self, capacity):\n",
    "        self.capacity = capacity\n",
    "        self.memory = []\n",
    "        self.push_count = 0\n",
    "        self.state_counter_dic = {}\n",
    "      \n",
    "    def push(self, experience):\n",
    "        if (em.env.s not in self.state_counter_dic):\n",
    "            self.state_counter_dic[em.env.s] = 1\n",
    "        else:\n",
    "             self.state_counter_dic[em.env.s] = self.state_counter_dic[em.env.s]+1\n",
    "\n",
    "        if len(self.memory) < self.capacity:\n",
    "            self.memory.append(experience)\n",
    "        else:\n",
    "            self.memory[self.push_count % self.capacity] = experience\n",
    "        self.push_count += 1\n",
    "      \n",
    "    def sample(self, batch_size):\n",
    "        return random.sample(self.memory, batch_size)\n",
    "\n",
    "    def can_provide_sample(self, batch_size):\n",
    "        return len(self.memory) >= batch_size\n",
    "    \n",
    "    def state_counter(self, state):\n",
    "        \"\"\"\n",
    "        Return the number of times that state has been seen\n",
    "        :state: The state that we are looking for how many times it has been seen\n",
    "        \"\"\"\n",
    "        counter = 0\n",
    "        for experience in self.memory:\n",
    "            if torch.all(torch.eq(experience[0][0], state)):\n",
    "                counter += 1  \n",
    "        return counter      "
   ]
  },
  {
   "cell_type": "markdown",
   "metadata": {
    "colab_type": "text",
    "id": "bpKPILba1-Xb"
   },
   "source": [
    "# Epsilon Greedy Strategy"
   ]
  },
  {
   "cell_type": "code",
   "execution_count": 63,
   "metadata": {
    "colab": {},
    "colab_type": "code",
    "id": "iXKmT4sm1-Xc"
   },
   "outputs": [],
   "source": [
    "class EpsilonGreedyStrategy():\n",
    "    def __init__(self, start, end, decay):\n",
    "        self.start = start\n",
    "        self.end = end\n",
    "        self.decay = decay\n",
    "\n",
    "    def get_exploration_rate(self, current_step):\n",
    "        return self.end + (self.start - self.end) * math.exp(-1. * current_step * self.decay)"
   ]
  },
  {
   "cell_type": "markdown",
   "metadata": {
    "colab_type": "text",
    "id": "pw7QCt851-Xi"
   },
   "source": [
    "# Agent"
   ]
  },
  {
   "cell_type": "code",
   "execution_count": 64,
   "metadata": {
    "colab": {},
    "colab_type": "code",
    "id": "N2WrSIC81-Xj"
   },
   "outputs": [],
   "source": [
    "class Agent():\n",
    "    def __init__(self, strategy, num_actions, device):\n",
    "        self.current_step = 0\n",
    "        self.strategy = strategy\n",
    "        self.num_actions = num_actions\n",
    "        self.device = device\n",
    "    \n",
    "        \n",
    "    def select_action(self, state, policy_net):\n",
    "        def softmax(x):\n",
    "            \"\"\"Compute softmax values for each sets of scores in x.\"\"\"\n",
    "            e_x = np.exp(x - np.max(x))\n",
    "            return e_x / e_x.sum(axis=0)\n",
    "        \n",
    "        if(SOFTMAX):        \n",
    "            actions = policy_net(state).cpu().detach().numpy().squeeze()\n",
    "            prob = softmax(actions)\n",
    "            action = np.random.choice(list(actions), 1,p=prob)\n",
    "            action = np.where(actions==action)[0][0]\n",
    "            return torch.tensor([action]).to(device)\n",
    "\n",
    "        #return torch.tensor(policy_net(state).argmax(dim=1).to(self.device)).to(self.device) # exploit\n",
    "\n",
    "        if(EPSILON):\n",
    "            rate = self.strategy.get_exploration_rate(self.current_step)\n",
    "            self.current_step += 1\n",
    "            if rate > random.random():\n",
    "                action = random.randrange(self.num_actions)\n",
    "                return torch.tensor([action]).to(device) # explore      \n",
    "            else:\n",
    "                with torch.no_grad():\n",
    "                    return torch.tensor(policy_net(state).argmax(dim=1).to(self.device) ).to(self.device) # exploit\n",
    "            "
   ]
  },
  {
   "cell_type": "markdown",
   "metadata": {
    "colab_type": "text",
    "id": "O5EbEHhS1-Xo"
   },
   "source": [
    "# Environment Manager "
   ]
  },
  {
   "cell_type": "code",
   "execution_count": 65,
   "metadata": {
    "colab": {},
    "colab_type": "code",
    "id": "vXxvnGbO1-Xp"
   },
   "outputs": [],
   "source": [
    "class FrozenLakeEnvManager():\n",
    "    def __init__(self, device, map_joan, map_frozen_lake):\n",
    "        \"\"\"\n",
    "        :param map_joan: The original map with no agent\n",
    "        :param map_frozen_lake: The map for gym\n",
    "        \"\"\"\n",
    "        self.device = device\n",
    "        self.env = gym.make('FrozenLake-v0',desc=map_frozen_lake, is_slippery=False).unwrapped\n",
    "        self.done = False\n",
    "        #0 = goal; 1 = hole ; 2 = agent;3 = ice\n",
    "        self.original_map = map_joan             \n",
    "        self.map_status = []\n",
    "        self.reset()\n",
    "        self.image_side = 64\n",
    "    \n",
    "    def reset(self):\n",
    "        self.env.reset()\n",
    "        self.done = False\n",
    "        self.map_status = self.original_map.copy()\n",
    "        self.map_status[0] = 2\n",
    "        \n",
    "    def close(self):\n",
    "        self.env.close()\n",
    "\n",
    "    def render(self, mode='char'):\n",
    "        if mode == 'human':\n",
    "            return self.env.render(mode)\n",
    "        if mode == 'char':\n",
    "            for i in range(0,len(self.original_map)):\n",
    "                if(i%(np.sqrt(len(self.original_map)))==0):\n",
    "                    print('')\n",
    "\n",
    "                if(self.map_status[i]==2):\n",
    "                    print(\".\",end=\"\")\n",
    "                else:\n",
    "                    print(self.map_status[i],end=\"\")\n",
    "            print()\n",
    "            #return self.env.render('human')\n",
    "        elif mode == 'image':\n",
    "            tensor_image_state = char_map_to_tensor(self.map_status,self.image_side)\n",
    "            display_tensor(tensor_image_state)\n",
    "            if is_ipython: display.clear_output(wait=True)\n",
    "        elif mode == 'image_gray':\n",
    "            tensor_image_state = char_map_to_tensor_gray(self.map_status,self.image_side)\n",
    "            display_tensor_gray(tensor_image_state)\n",
    "            if is_ipython: display.clear_output(wait=True)\n",
    "        \n",
    "                 \n",
    "    def num_actions_available(self):\n",
    "        return self.env.action_space.n\n",
    "    \n",
    "    def take_action(self, action, memory):\n",
    "        prev_state = self.env.s        \n",
    "        new_state, reward, self.done, info = self.env.step(action.item())\n",
    "        self.map_status = self.original_map.copy()\n",
    "        self.map_status[new_state] = 2        \n",
    "        \n",
    "        #newer is the state bigger is the reward\n",
    "        #reward = 1 * np.exp(-memory.state_counter(self.get_state()))\n",
    "        #reward = 1/np.sqrt((memory.state_counter(self.get_state())+0.01))        \n",
    "        # reward = 1/((5*memory.state_counter(self.get_state())+0.1))\n",
    "        # reward = 1 / ( np.exp(memory.state_counter(self.get_state())*memory.state_counter(self.get_state())) )\n",
    "        reward = 0\n",
    "        if (COUNT):\n",
    "            if (new_state not in memory.state_counter_dic):\n",
    "                reward = 1\n",
    "            else:\n",
    "                reward = 1/(np.sqrt((memory.state_counter_dic[new_state]))+1)\n",
    "\n",
    "\n",
    "        if (self.original_map[new_state]==0):\n",
    "            #GOAL\n",
    "            #print(\"DIIIIIIIIIIIIIIIIIIIIIIIIIIIIIIIIIIIIIIIIIIIIIIIIIIIING\")  \n",
    "            reward += 10\n",
    "            #input()\n",
    "        elif (self.original_map[new_state]==1 or prev_state == self.env.s):\n",
    "            #HOLE\n",
    "            reward = -1\n",
    "            self.done = True\n",
    "        elif (self.original_map[new_state]==3):\n",
    "            #ICE\n",
    "            reward += 0 \n",
    "\n",
    "\n",
    "        return torch.tensor([reward], dtype=torch.float,device=self.device)\n",
    "    \n",
    "    def get_state(self):\n",
    "        tensor_image_state = char_map_to_tensor_gray(self.map_status,self.image_side)\n",
    "        state = torch.tensor(tensor_image_state).to(self.device).unsqueeze(0).unsqueeze(0).float()\n",
    "        return state\n",
    "    "
   ]
  },
  {
   "cell_type": "markdown",
   "metadata": {
    "colab_type": "text",
    "id": "V7LXJ7971-Xw"
   },
   "source": [
    "# Utility"
   ]
  },
  {
   "cell_type": "code",
   "execution_count": 66,
   "metadata": {
    "colab": {},
    "colab_type": "code",
    "id": "0F95yfE53T_M"
   },
   "outputs": [],
   "source": [
    "def create_q_values_to_display():\n",
    "    grid_side = np.sqrt(len(em.original_map))\n",
    "    for i in range(len(em.original_map)):\n",
    "        #Put the agent in each position\n",
    "        map = em.original_map.copy()\n",
    "        is_Ice = True if map[i]==3 else False\n",
    "        is_Hole = True if map[i]==1 else False\n",
    "        is_Goal = True if map[i]==0 else False        \n",
    "        is_Start = True if i==0 else False\n",
    "\n",
    "        map [i] = 2    \n",
    "        tensor_map = char_map_to_tensor(map, em.image_side)\n",
    "\n",
    "        tensor_cuda = tensor_map.unsqueeze(0).cuda().float()\n",
    "\n",
    "        q = []\n",
    "        policy_net.eval()\n",
    "        with torch.no_grad():\n",
    "            for value in policy_net(tensor_cuda)[0].tolist():\n",
    "                q.append(round(value,3))\n",
    "        policy_net.train()\n",
    "\n",
    "        if (is_Ice):\n",
    "            if (is_Start):\n",
    "                q_value = np.array([[np.NaN, q[3], np.NaN], \n",
    "                                    [q[0], 0, q[2]], \n",
    "                                    [np.NaN, q[1], np.NaN]])\n",
    "            else:\n",
    "                q_value = np.array([[np.NaN, q[3], np.NaN], \n",
    "                                    [q[0], np.NaN, q[2]], \n",
    "                                    [np.NaN, q[1], np.NaN]])\n",
    "        elif (is_Hole):\n",
    "            q_value = np.array([[np.NaN, np.NaN, np.NaN], \n",
    "                                [np.NaN, np.NaN, np.NaN], \n",
    "                                [np.NaN, np.NaN, np.NaN]])\n",
    "        elif (is_Goal):\n",
    "            q_value = np.array([[np.NaN, np.NaN, np.NaN], \n",
    "                                [np.NaN, 10, np.NaN], \n",
    "                                [np.NaN, np.NaN, np.NaN]])  \n",
    "            \n",
    "        if (i == 0):\n",
    "            prev_q_values = q_value\n",
    "        else:\n",
    "            prev_q_values = np.concatenate((prev_q_values, q_value), axis=1)\n",
    "\n",
    "        \n",
    "    q_values_display = np.split(prev_q_values,grid_side,axis=1)[0]\n",
    "\n",
    "    for cell in np.split(prev_q_values,grid_side,axis=1)[1:] :\n",
    "        q_values_display = np.concatenate((q_values_display,cell),axis=0)\n",
    "    \n",
    "    return q_values_display"
   ]
  },
  {
   "cell_type": "code",
   "execution_count": 67,
   "metadata": {
    "colab": {},
    "colab_type": "code",
    "id": "TB-9MLZcRWxZ"
   },
   "outputs": [],
   "source": [
    "def create_q_values_to_display_gray():\n",
    "    grid_side = np.sqrt(len(em.original_map))\n",
    "    for i in range(len(em.original_map)):\n",
    "        #Put the agent in each position\n",
    "        map = em.original_map.copy()\n",
    "        is_Ice = True if map[i]==3 else False\n",
    "        is_Hole = True if map[i]==1 else False\n",
    "        is_Goal = True if map[i]==0 else False        \n",
    "        is_Start = True if i==0 else False\n",
    "\n",
    "        map [i] = 2    \n",
    "        tensor_map = char_map_to_tensor_gray(map, em.image_side).unsqueeze(0).unsqueeze(0).cuda().float()\n",
    "        \n",
    "        q = []\n",
    "        policy_net.eval()\n",
    "        with torch.no_grad():\n",
    "            for value in policy_net(tensor_map)[0].tolist():\n",
    "                q.append(round(value,3))\n",
    "        policy_net.train()\n",
    "\n",
    "        if (is_Ice):\n",
    "            if (is_Start):\n",
    "                q_value = np.array([[np.NaN, q[3], np.NaN], \n",
    "                                    [q[0], 0, q[2]], \n",
    "                                    [np.NaN, q[1], np.NaN]])\n",
    "            else:\n",
    "                q_value = np.array([[np.NaN, q[3], np.NaN], \n",
    "                                    [q[0], np.NaN, q[2]], \n",
    "                                    [np.NaN, q[1], np.NaN]])\n",
    "        elif (is_Hole):\n",
    "            q_value = np.array([[np.NaN, np.NaN, np.NaN], \n",
    "                                [np.NaN, np.NaN, np.NaN], \n",
    "                                [np.NaN, np.NaN, np.NaN]])\n",
    "        elif (is_Goal):\n",
    "            q_value = np.array([[np.NaN, np.NaN, np.NaN], \n",
    "                                [np.NaN, 10, np.NaN], \n",
    "                                [np.NaN, np.NaN, np.NaN]])  \n",
    "            \n",
    "        if (i == 0):\n",
    "            prev_q_values = q_value\n",
    "        else:\n",
    "            prev_q_values = np.concatenate((prev_q_values, q_value), axis=1)\n",
    "\n",
    "        \n",
    "    q_values_display = np.split(prev_q_values,grid_side,axis=1)[0]\n",
    "\n",
    "    for cell in np.split(prev_q_values,grid_side,axis=1)[1:] :\n",
    "        q_values_display = np.concatenate((q_values_display,cell),axis=0)\n",
    "    \n",
    "    return q_values_display"
   ]
  },
  {
   "cell_type": "code",
   "execution_count": 68,
   "metadata": {
    "colab": {},
    "colab_type": "code",
    "id": "Kt2L1LfU3VEg"
   },
   "outputs": [],
   "source": [
    "def display_q_values():\n",
    "    #data = create_q_values_to_display()\n",
    "    data = create_q_values_to_display_gray()\n",
    "    grid_side = np.sqrt(len(em.original_map))\n",
    "\n",
    "    fig, ax = plt.subplots(figsize=(20, 10))\n",
    "    # Using matshow here just because it sets the ticks up nicely. imshow is faster.\n",
    "    ax.matshow(data)\n",
    "\n",
    "    for (i, j), z in np.ndenumerate(data):\n",
    "        if(not np.isnan(z)):\n",
    "            ax.text(j, i, '{:0.1f}'.format(z), ha='center', va='center')\n",
    "            # ax.text(j, i, '{:0.1f}'.format(z), ha='center', va='center',\n",
    "            #         bbox=dict(boxstyle='circle', facecolor='white', edgecolor='0.1'))\n",
    "\n",
    "    ax.set_yticks(np.arange(-0.5, 3*grid_side-0.5, 3), minor=False)\n",
    "    ax.set_xticks(np.arange(-0.5, 3*grid_side-0.5, 3), minor=False)\n",
    "\n",
    "    plt.grid(color='r',linewidth=3)\n",
    "    plt.show()"
   ]
  },
  {
   "cell_type": "code",
   "execution_count": 69,
   "metadata": {
    "colab": {},
    "colab_type": "code",
    "id": "wI-R_JUb_X0a"
   },
   "outputs": [],
   "source": [
    "def char_map_to_tensor(char_map, resized_side):\n",
    "    \"\"\"\n",
    "    Return an tensor representing the char_map as an image C x H x W\n",
    "    :char_map: The map represented with characters i.e. [3,3,3,3,3,1,3,1,3,3,3,1,1,3,3,0]\n",
    "    :resized_side: hight and width of the image\n",
    "    \"\"\"\n",
    "    len_map_side = int(np.sqrt(len(char_map)))\n",
    "    map_image = np.empty([len_map_side, len_map_side, 3])\n",
    "    \n",
    "    agent_color = [255, 0, 0] #RED\n",
    "    ice_color = [0, 0, 255] #BLUE\n",
    "    hole_color = [0, 0, 0] #BLACK\n",
    "    goal_color = [0, 255, 0] #GREEN\n",
    "    \n",
    "    colors = [goal_color, hole_color, agent_color, ice_color]\n",
    "    \n",
    "    #0 = goal; 1 = hole; 2 = agent; 3 = ice\n",
    "    for i, char in enumerate(char_map):\n",
    "        #print(i//len_map_side,i%len_map_side)\n",
    "        map_image[i//len_map_side,i%len_map_side] = colors[char] \n",
    "\n",
    "\n",
    "    map_image_resized = cv2.resize(map_image, dsize=(resized_side, resized_side),interpolation=cv2.INTER_NEAREST)\n",
    "    \n",
    "    #change H, W, C to C, H, W\n",
    "    map_image_resized_c_h_w = np.transpose(map_image_resized,(2,0,1))\n",
    "\n",
    "    map_tensor = torch.tensor(map_image_resized_c_h_w)\n",
    "    return map_tensor  \n",
    "    "
   ]
  },
  {
   "cell_type": "code",
   "execution_count": 70,
   "metadata": {
    "colab": {},
    "colab_type": "code",
    "id": "8qhnfKiyRWxg"
   },
   "outputs": [],
   "source": [
    "def char_map_to_tensor_gray(char_map, resized_side):\n",
    "    \"\"\"\n",
    "    Return an tensor representing the char_map as an image C x H x W\n",
    "    :char_map: The map represented with characters i.e. [3,3,3,3,3,1,3,1,3,3,3,1,1,3,3,0]\n",
    "    :resized_side: hight and width of the image\n",
    "    \"\"\"\n",
    "    len_map_side = int(np.sqrt(len(char_map)))\n",
    "    map_image = np.empty([len_map_side, len_map_side, 1])\n",
    "       \n",
    "    agent_color = 150 \n",
    "    ice_color = 64\n",
    "    hole_color = 0\n",
    "    goal_color = 255\n",
    "    \n",
    "    colors = [goal_color, hole_color, agent_color, ice_color]\n",
    "    \n",
    "    #0 = goal; 1 = hole; 2 = agent; 3 = ice\n",
    "    for i, char in enumerate(char_map):\n",
    "        #print(i//len_map_side,i%len_map_side)\n",
    "        map_image[i//len_map_side,i%len_map_side] = colors[char] \n",
    "\n",
    "    map_image_resized = cv2.resize(map_image, dsize=(resized_side, resized_side),interpolation=cv2.INTER_NEAREST)\n",
    "    \n",
    "    return torch.tensor(map_image_resized)\n",
    "    "
   ]
  },
  {
   "cell_type": "code",
   "execution_count": 71,
   "metadata": {
    "colab": {},
    "colab_type": "code",
    "id": "GbKoQW0lwrzq"
   },
   "outputs": [],
   "source": [
    "def display_tensor(t):\n",
    "    \"\"\"\n",
    "    Display a tesnor which is an state of the frozen lake\n",
    "    :t: The tensor of shape C x H x W\n",
    "    \"\"\"\n",
    "    plt.imshow(np.uint8(t.permute(1,2,0)))"
   ]
  },
  {
   "cell_type": "code",
   "execution_count": 72,
   "metadata": {
    "colab": {},
    "colab_type": "code",
    "id": "SvKMqi7URWxk"
   },
   "outputs": [],
   "source": [
    "def display_tensor_gray(t):\n",
    "    \"\"\"\n",
    "    Display a tesnor which is an state of the frozen lake\n",
    "    :t: The tensor of shape H x W\n",
    "    \"\"\"\n",
    "    plt.imshow(np.uint8(t),cmap='gray')"
   ]
  },
  {
   "cell_type": "code",
   "execution_count": 73,
   "metadata": {
    "colab": {},
    "colab_type": "code",
    "id": "rwJXrlSR1-Xx"
   },
   "outputs": [],
   "source": [
    "def plot(values, moving_avg_period, eps,episode_rewards_exploit):\n",
    "    plt.figure(2)\n",
    "    plt.clf()        \n",
    "    plt.title('Training...')\n",
    "    plt.xlabel('Episode')\n",
    "    plt.ylabel('Reward')\n",
    "    plt.plot(values)\n",
    "    plt.plot(episode_rewards_exploit)\n",
    "\n",
    "       \n",
    "    moving_avg = get_moving_average(moving_avg_period, values)  \n",
    "    if len(values) >= moving_avg_period:\n",
    "        plt.plot(moving_avg)\n",
    "    plt.pause(0.001)\n",
    "        \n",
    "    print(\"Episode\", len(values), \"\\n\", \\\n",
    "        moving_avg_period, \"episode moving avg:\", moving_avg[-1], \"\\n\", \\\n",
    "        \"Epsilon:\",eps, \"\\n\"\n",
    "        )\n",
    "    \n",
    "\n",
    "    if is_ipython: display.clear_output(wait=True)"
   ]
  },
  {
   "cell_type": "code",
   "execution_count": 74,
   "metadata": {
    "colab": {},
    "colab_type": "code",
    "id": "qA86A8ko1-X3"
   },
   "outputs": [],
   "source": [
    "def get_moving_average(period, values):\n",
    "    values = torch.tensor(values, dtype=torch.float)\n",
    "    if len(values) >= period:\n",
    "        moving_avg = values.unfold(dimension=0, size=period, step=1) \\\n",
    "            .mean(dim=1).flatten(start_dim=0)\n",
    "        moving_avg = torch.cat((torch.zeros(period-1), moving_avg))\n",
    "\n",
    "        moving_avg = moving_avg.numpy()\n",
    "\n",
    "        moving_avg_with_nans = np.empty(len(moving_avg))\n",
    "        moving_avg_with_nans[:] = np.nan\n",
    "        moving_avg_with_nans[:]\n",
    "        moving_avg_with_nans[period:] = moving_avg[period:]\n",
    "        return moving_avg_with_nans\n",
    "    else:\n",
    "        moving_avg = torch.zeros(len(values))\n",
    "        return moving_avg.numpy()"
   ]
  },
  {
   "cell_type": "code",
   "execution_count": 75,
   "metadata": {
    "colab": {},
    "colab_type": "code",
    "id": "xJYyam4RXjnf"
   },
   "outputs": [],
   "source": [
    "def generate_random_map(size=4, p=0.8):\n",
    "    \"\"\"Generates a random valid map (one that has a path from start to goal)\n",
    "    :param size: size of each side of the grid\n",
    "    :param p: probability that a tile is frozen\n",
    "    \"\"\"\n",
    "    valid = False\n",
    "\n",
    "    # DFS to check that it's a valid path.\n",
    "    def is_valid(res):\n",
    "        frontier, discovered = [], set()\n",
    "        frontier.append((0, 0))\n",
    "        while frontier:\n",
    "            r, c = frontier.pop()\n",
    "            if not (r, c) in discovered:\n",
    "                discovered.add((r, c))\n",
    "                directions = [(1, 0), (0, 1), (-1, 0), (0, -1)]\n",
    "                for x, y in directions:\n",
    "                    r_new = r + x\n",
    "                    c_new = c + y\n",
    "                    if r_new < 0 or r_new >= size or c_new < 0 or c_new >= size:\n",
    "                        continue\n",
    "                    if res[r_new][c_new] == 'G':\n",
    "                        return True\n",
    "                    if (res[r_new][c_new] != 'H'):\n",
    "                        frontier.append((r_new, c_new))\n",
    "        return False\n",
    "\n",
    "    while not valid:\n",
    "        p = min(1, p)\n",
    "        res = np.random.choice(['F', 'H'], (size, size), p=[p, 1-p])\n",
    "        res[0][0] = 'S'\n",
    "        res[-1][-1] = 'G'\n",
    "        valid = is_valid(res)\n",
    "\n",
    "    map_frozen_lake = [\"\".join(x) for x in res]\n",
    "    map_joan = []\n",
    "    for row in map_frozen_lake:\n",
    "        for cell in row:\n",
    "            if cell == 'S' or cell == 'F':\n",
    "                map_joan.append(3)\n",
    "            elif cell == 'H':\n",
    "                map_joan.append(1)\n",
    "            elif cell ==  'G':\n",
    "                map_joan.append(0)\n",
    "    return map_joan,map_frozen_lake\n"
   ]
  },
  {
   "cell_type": "markdown",
   "metadata": {
    "colab_type": "text",
    "id": "cCELTi2C1-X9"
   },
   "source": [
    "# Q-Value calcualtor"
   ]
  },
  {
   "cell_type": "code",
   "execution_count": 76,
   "metadata": {
    "colab": {},
    "colab_type": "code",
    "id": "iYszKMmC1-X-"
   },
   "outputs": [],
   "source": [
    "def extract_tensors(experiences):\n",
    "    # Convert batch of Experiences to Experience of batches\n",
    "    batch = Experience(*zip(*experiences))\n",
    "\n",
    "    t1 = torch.cat(batch.state)\n",
    "    t2 = torch.cat(batch.action)\n",
    "    t3 = torch.cat(batch.reward)\n",
    "    t4 = torch.cat(batch.next_state)\n",
    "    t5 = torch.cat(batch.terminated)\n",
    "\n",
    "    return (t1,t2,t3,t4,t5)"
   ]
  },
  {
   "cell_type": "code",
   "execution_count": 77,
   "metadata": {
    "colab": {},
    "colab_type": "code",
    "id": "tufpcNma1-YF"
   },
   "outputs": [],
   "source": [
    "class QValues():\n",
    "    device = torch.device(\"cuda\" if torch.cuda.is_available() else \"cpu\")\n",
    "    \n",
    "    @staticmethod\n",
    "    def get_current(policy_net, states, actions):\n",
    "        return torch.squeeze(policy_net(states.float()).gather(dim=1, index=actions.unsqueeze(-1)))\n",
    "        \n",
    "    \n",
    "    @staticmethod        \n",
    "    def get_next(target_net, next_states, terminated):\n",
    "\n",
    "        index_not_terminated_states = []\n",
    "        for i,c in enumerate(terminated):\n",
    "          if(not c.item()):\n",
    "            index_not_terminated_states.append(i)\n",
    "        non_final_states = next_states[index_not_terminated_states] \n",
    "                           \n",
    "        # final_state_locations = next_states.flatten(start_dim=1) \\\n",
    "        #     .max(dim=1)[0].eq(0).type(torch.bool)\n",
    "        # non_final_state_locations = (final_state_locations == False)\n",
    "        # non_final_states = next_states[non_final_state_locations]\n",
    "\n",
    "        batch_size = next_states.shape[0]\n",
    "        values = torch.zeros(batch_size).to(QValues.device)\n",
    "        \n",
    "        if(non_final_states.nelement() != 0):\n",
    "            values[index_not_terminated_states] = target_net(non_final_states).max(dim=1)[0].detach()\n",
    "            #values[index_not_terminated_states] = target_net(non_final_states).max(dim=1)[0].clone().detach().requires_grad_(True)\n",
    "        \n",
    "        \n",
    "        # print(final_state_locations)\n",
    "        # print(next_states)\n",
    "        # print(non_final_states)\n",
    "        # input()  \n",
    "\n",
    "        return values"
   ]
  },
  {
   "cell_type": "code",
   "execution_count": 78,
   "metadata": {
    "colab": {},
    "colab_type": "code",
    "id": "ynsOiTgLIU90"
   },
   "outputs": [],
   "source": [
    "def exploit_episode(policy_net):\n",
    "    policy_net.eval()\n",
    "\n",
    "    em1 = FrozenLakeEnvManager(device, map_joan, map_frozen_lake)\n",
    "    em1.reset()\n",
    "    eps_reward = 0\n",
    "    c = 0\n",
    "    while(em1.done == False):\n",
    "        prev_state = em1.env.s\n",
    "        state = em1.get_state()        \n",
    "        action = torch.tensor(policy_net(state).argmax(dim=1).to(device)).to(device)\n",
    "        \n",
    "        new_state, reward, em1.done, info = em1.env.step(action.item())\n",
    "        em1.map_status = em1.original_map.copy()\n",
    "        em1.map_status[new_state] = 2     \n",
    "        \n",
    "        if (em1.original_map[new_state]==0):\n",
    "            #GOAL\n",
    "            #print(\"DIIIIIIIIIIIIIIIIIIIIIIIIIIIIIIIIIIIIIIIIIIIIIIIIIIIING\")  \n",
    "            reward = 10\n",
    "            #input()\n",
    "        elif (em1.original_map[new_state]==1 or prev_state == em1.env.s):\n",
    "            #HOLE\n",
    "            reward = -1\n",
    "            em1.done = True\n",
    "        elif (em1.original_map[new_state]==3):\n",
    "            #ICE\n",
    "            reward = 0 \n",
    "        \n",
    "        eps_reward += reward\n",
    "        next_state = em1.get_state()\n",
    "        state = next_state\n",
    "        if(c>len(em1.map_status)):\n",
    "            break\n",
    "        c=c+1\n",
    "        \n",
    "    policy_net.train()\n",
    "    \n",
    "    return eps_reward\n",
    "\n",
    "    "
   ]
  },
  {
   "cell_type": "markdown",
   "metadata": {
    "colab_type": "text",
    "id": "rEz0MuNB1-YK"
   },
   "source": [
    "# MAIN"
   ]
  },
  {
   "cell_type": "code",
   "execution_count": 79,
   "metadata": {
    "colab": {},
    "colab_type": "code",
    "id": "AhaIIPJ21-YL"
   },
   "outputs": [],
   "source": [
    "#Hyperparameters\n",
    "grid_size = 6\n",
    "batch_size = 40\n",
    "gamma = 0.95 #95\n",
    "eps_start = 1\n",
    "eps_end = 0.01\n",
    "eps_decay = 0.001\n",
    "\n",
    "target_update = 15 #5\n",
    "memory_size = 200\n",
    "lr = 11**-4\n",
    "num_episodes = 300\n",
    "\n",
    "device = torch.device(\"cuda\" if torch.cuda.is_available() else \"cpu\")"
   ]
  },
  {
   "cell_type": "code",
   "execution_count": 80,
   "metadata": {
    "colab": {},
    "colab_type": "code",
    "id": "hcMbw-ks1-YR"
   },
   "outputs": [
    {
     "data": {
      "image/png": "[encoded data removed]",
      "text/plain": [
       "<Figure size 432x288 with 1 Axes>"
      ]
     },
     "metadata": {
      "needs_background": "light"
     },
     "output_type": "display_data"
    }
   ],
   "source": [
    "#4x4\n",
    "map_joan, map_frozen_lake = [3,3,3,3,3,1,3,1,3,3,3,1,1,3,3,0],MAPS['4x4']\n",
    "\n",
    "#6x6\n",
    "#map_joan, map_frozen_lake = [3, 1, 1, 1, 3, 3, 3, 3, 3, 1, 1, 3, 1, 3, 3, 3, 1, 1, 1, 3, 3, 1, 1, 1, 1, 1, 3, 1, 1, 1, 3, 1, 3, 3, 3, 0],['SHHHFF', 'FFFHHF', 'HFFFHH', 'HFFHHH', 'HHFHHH', 'FHFFFG']\n",
    "\n",
    "#8x8\n",
    "#Test\n",
    "#map_joan, map_frozen_lake = [3, 3, 1, 1, 1, 1, 1, 1, 1, 3, 3, 3, 1, 1, 1, 1, 1, 1, 1, 3, 3, 1, 1, 1, 1, 1, 3, 1, 3, 3, 1, 1, 1, 1, 1, 3, 1, 3, 3, 1, 1, 3, 1, 3, 1, 3, 3, 3, 1, 1, 1, 1, 3, 1, 1, 3, 1, 1, 1, 1, 1, 1, 3, 0],['SFHHHHHH', 'HFFFHHHH', 'HHHFFHHH', 'HHFHFFHH', 'HHHFHFFH', 'HFHFHFFF', 'HHHHFHHF', 'HHHHHHFG']\n",
    "#map_joan, map_frozen_lake = [3, 3, 1, 3, 1, 1, 3, 1, 3, 1, 1, 1, 3, 1, 3, 1, 3, 3, 3, 1, 1, 1, 1, 3, 3, 3, 1, 1, 1, 3, 3, 1, 3, 1, 3, 1, 3, 3, 3, 3, 3, 3, 3, 3, 3, 3, 3, 3, 3, 1, 1, 3, 1, 1, 1, 3, 3, 3, 1, 3, 3, 3, 3, 0],['SFHFHHFH', 'FHHHFHFH', 'FFFHHHHF', 'FFHHHFFH', 'FHFHFFFF', 'FFFFFFFF', 'FHHFHHHF', 'FFHFFFFG']\n",
    "#map_joan, map_frozen_lake =[3, 3, 1, 3, 3, 3, 1, 1, 3, 1, 1, 1, 1, 1, 1, 1, 3, 3, 1, 1, 3, 3, 1, 1, 3, 1, 3, 1, 1, 3, 1, 1, 3, 3, 3, 3, 3, 3, 1, 1, 1, 1, 1, 1, 3, 1, 3, 1, 3, 1, 3, 3, 3, 3, 3, 1, 1, 1, 3, 3, 3, 1, 3, 0],['SFHFFFHH', 'FHHHHHHH', 'FFHHFFHH', 'FHFHHFHH', 'FFFFFFHH', 'HHHHFHFH', 'FHFFFFFH', 'HHFFFHFG']\n",
    "\n",
    "#12x12\n",
    "#map_joan, map_frozen_lake = [3, 3, 3, 1, 3, 1, 1, 3, 1, 3, 3, 1, 1, 1, 3, 1, 1, 1, 3, 1, 1, 1, 3, 1, 3, 1, 3, 3, 3, 1, 1, 1, 3, 3, 1, 1, 1, 3, 3, 1, 3, 3, 1, 1, 1, 1, 3, 3, 1, 1, 1, 1, 3, 1, 1, 3, 3, 1, 3, 3, 3, 1, 3, 3, 3, 3, 3, 1, 1, 1, 3, 1, 3, 1, 1, 1, 1, 3, 3, 1, 3, 3, 3, 1, 1, 1, 3, 1, 1, 1, 3, 1, 3, 3, 1, 3, 1, 3, 1, 1, 3, 3, 3, 3, 3, 3, 3, 3, 3, 1, 3, 3, 1, 3, 1, 1, 3, 1, 1, 1, 1, 3, 3, 1, 1, 3, 1, 1, 3, 3, 3, 3, 3, 3, 1, 3, 1, 1, 1, 1, 1, 3, 1, 0],['SFFHFHHFHFFH', 'HHFHHHFHHHFH', 'FHFFFHHHFFHH', 'HFFHFFHHHHFF', 'HHHHFHHFFHFF', 'FHFFFFFHHHFH', 'FHHHHFFHFFFH', 'HHFHHHFHFFHF', 'HFHHFFFFFFFF', 'FHFFHFHHFHHH', 'HFFHHFHHFFFF', 'FFHFHHHHHFHG']\n",
    "\n",
    "#16x16\n",
    "#map_joan, map_frozen_lake = [3, 3, 3, 3, 3, 3, 1, 1, 3, 1, 3, 1, 1, 3, 3, 1, 1, 3, 3, 1, 3, 1, 1, 1, 1, 3, 3, 1, 1, 1, 1, 1, 3, 1, 3, 3, 3, 3, 3, 3, 3, 1, 3, 1, 3, 1, 3, 3, 3, 3, 1, 1, 3, 3, 3, 3, 3, 1, 3, 3, 1, 1, 1, 1, 3, 3, 3, 1, 1, 3, 3, 3, 1, 1, 3, 1, 1, 3, 1, 1, 1, 3, 1, 3, 3, 3, 3, 1, 3, 1, 3, 3, 1, 1, 1, 1, 1, 1, 1, 1, 3, 3, 3, 3, 3, 3, 3, 1, 3, 3, 3, 3, 3, 1, 1, 1, 3, 3, 3, 3, 3, 1, 3, 1, 1, 1, 3, 3, 1, 1, 1, 1, 1, 3, 1, 3, 3, 3, 1, 3, 1, 3, 1, 1, 3, 1, 3, 3, 1, 1, 1, 1, 1, 3, 3, 3, 1, 1, 1, 1, 1, 1, 1, 3, 1, 3, 3, 1, 1, 3, 3, 3, 3, 3, 3, 3, 1, 1, 1, 1, 1, 3, 3, 1, 1, 1, 1, 1, 1, 3, 1, 1, 1, 3, 3, 3, 3, 3, 1, 1, 3, 1, 1, 3, 1, 3, 3, 3, 3, 1, 1, 1, 3, 1, 3, 3, 3, 1, 1, 1, 1, 1, 1, 3, 3, 3, 3, 1, 3, 3, 3, 1, 3, 1, 3, 1, 1, 1, 1, 3, 1, 3, 1, 3, 3, 3, 1, 3, 3, 3, 1, 3, 1, 1, 3, 0],['SFFFFFHHFHFHHFFH', 'HFFHFHHHHFFHHHHH', 'FHFFFFFFFHFHFHFF', 'FFHHFFFFFHFFHHHH', 'FFFHHFFFHHFHHFHH', 'HFHFFFFHFHFFHHHH', 'HHHHFFFFFFFHFFFF', 'FHHHFFFFFHFHHHFF', 'HHHHHFHFFFHFHFHH', 'FHFFHHHHHFFFHHHH', 'HHHFHFFHHFFFFFFF', 'HHHHHFFHHHHHHFHH', 'HFFFFFHHFHHFHFFF', 'FHHHFHFFFHHHHHHF', 'FFFHFFFHFHFHHHHF', 'HFHFFFHFFFHFHHFG']\n",
    "\n",
    "#Random\n",
    "#map_joan, map_frozen_lake = generate_random_map(size=grid_size, p=random.uniform(0.1, 0.6)) \n",
    "\n",
    "#Environment manager\n",
    "em = FrozenLakeEnvManager(device, map_joan, map_frozen_lake)\n",
    "#Strategy\n",
    "strategy = EpsilonGreedyStrategy(eps_start, eps_end, eps_decay) \n",
    "em.render(\"image\")"
   ]
  },
  {
   "cell_type": "code",
   "execution_count": 81,
   "metadata": {
    "colab": {},
    "colab_type": "code",
    "id": "3vnjJUabiyZr"
   },
   "outputs": [
    {
     "name": "stdout",
     "output_type": "stream",
     "text": [
      "map_joan, map_frozen_lake = [3, 3, 3, 3, 3, 1, 3, 1, 3, 3, 3, 1, 1, 3, 3, 0],['SFFF', 'FHFH', 'FFFH', 'HFFG']\n"
     ]
    }
   ],
   "source": [
    "print('map_joan, map_frozen_lake = ',end='')\n",
    "print(map_joan,end='')\n",
    "print(',',end='')\n",
    "print(map_frozen_lake)"
   ]
  },
  {
   "cell_type": "code",
   "execution_count": 82,
   "metadata": {
    "colab": {},
    "colab_type": "code",
    "id": "lnZW8tj-1-YV"
   },
   "outputs": [],
   "source": [
    "#Agent\n",
    "agent = Agent(strategy, em.num_actions_available(), device)\n",
    "#Memory\n",
    "memory = ReplayMemory(memory_size)"
   ]
  },
  {
   "cell_type": "code",
   "execution_count": 83,
   "metadata": {
    "colab": {},
    "colab_type": "code",
    "id": "Soi3-ruw1-YZ"
   },
   "outputs": [],
   "source": [
    "#Nets\n",
    "policy_net = DQN(1, em.num_actions_available()).to(device)\n",
    "target_net = DQN(1, em.num_actions_available()).to(device)\n",
    "target_net.load_state_dict(policy_net.state_dict())\n",
    "target_net.eval()\n",
    "#Optimizer\n",
    "optimizer = optim.Adam(params=policy_net.parameters(), lr=lr,weight_decay=10**-4)"
   ]
  },
  {
   "cell_type": "code",
   "execution_count": null,
   "metadata": {
    "colab": {},
    "colab_type": "code",
    "id": "ye6X3t831-Yc"
   },
   "outputs": [
    {
     "data": {
      "image/png": "[encoded data removed]",
      "text/plain": [
       "<Figure size 432x288 with 1 Axes>"
      ]
     },
     "metadata": {
      "needs_background": "light"
     },
     "output_type": "display_data"
    },
    {
     "name": "stdout",
     "output_type": "stream",
     "text": [
      "Episode 361 \n",
      " 100 episode moving avg: 9.296137809753418 \n",
      " Epsilon: 1.0 \n",
      "\n"
     ]
    }
   ],
   "source": [
    "#Parameters for visualization\n",
    "visualize_training = False\n",
    "visualize_q_values = False#not visualize_training\n",
    "delay = 0.8\n",
    "\n",
    "episode_rewards = []\n",
    "episode_rewards_exploit=[] \n",
    "\n",
    "for episode in range(num_episodes):\n",
    "    #visualize_training = True if episode%100==0 else False\n",
    "    ep_reward = 0\n",
    "    em.reset()\n",
    "    state = em.get_state()\n",
    "    \n",
    "\n",
    "    if (visualize_training):\n",
    "        em.render(\"image\")\n",
    "        em.render(\"human\")\n",
    "        plt.pause(delay)\n",
    "    \n",
    "    for timestep in count():\n",
    "        action = agent.select_action(state, policy_net)\n",
    "        reward = em.take_action(action, memory)\n",
    "        next_state = em.get_state()\n",
    "        terminated = torch.tensor([em.done],dtype=torch.bool).to(device) \n",
    "        memory.push(Experience(state, action, next_state, reward, terminated))\n",
    "        state = next_state\n",
    "        ep_reward += reward.item()\n",
    "\n",
    "\n",
    "        if (visualize_q_values):\n",
    "            display_q_values()\n",
    "            #if is_ipython: display.clear_output(wait=True)\n",
    "\n",
    "        if (visualize_training):\n",
    "            em.render(\"image\")\n",
    "            em.render(\"human\")\n",
    "            print(\"Episode: \"+str(episode))\n",
    "            print(\"Timestep: \"+str(timestep))\n",
    "            if(episode%10 == 0 and episode != 0 and timestep == 0):\n",
    "                display_q_values()\n",
    "                # input()\n",
    "            plt.pause(delay)\n",
    "\n",
    "        if (visualize_training or visualize_q_values):\n",
    "            print(reward.item())\n",
    "\n",
    "        \n",
    "            \n",
    "\n",
    "        if memory.can_provide_sample(batch_size):\n",
    "            experiences = memory.sample(batch_size)\n",
    "            states, actions, rewards, next_states, terminated = extract_tensors(experiences)\n",
    "\n",
    "            current_q_values = QValues.get_current(policy_net, states, actions)\n",
    "            next_q_values = QValues.get_next(target_net, next_states, terminated)\n",
    "            target_q_values = (next_q_values * gamma) + rewards\n",
    "\n",
    "            loss = F.mse_loss(current_q_values, target_q_values)\n",
    "            optimizer.zero_grad()\n",
    "            loss.backward()\n",
    "            optimizer.step()       \n",
    "   \n",
    "        \n",
    "        if timestep > len(em.original_map):\n",
    "            em.done = True\n",
    "        \n",
    "        if em.done:\n",
    "            episode_rewards.append(ep_reward)\n",
    "            eps = agent.strategy.get_exploration_rate(agent.current_step)\n",
    "            \n",
    "            #run an episode only exploiting\n",
    "            episode_rewards_exploit.append(exploit_episode(policy_net))\n",
    "\n",
    "            if(visualize_q_values == False):                \n",
    "                plot(episode_rewards, 100, eps,episode_rewards_exploit)\n",
    "            break\n",
    "        \n",
    "        if timestep % target_update == 0:\n",
    "            target_net.load_state_dict(policy_net.state_dict())\n",
    "\n",
    "\n",
    "\n",
    "    # import time    \n",
    "    # time.sleep(1)\n",
    "    # display.c lear_output(wait=True) \n",
    "\n",
    "    if episode % target_update == 0:\n",
    "        target_net.load_state_dict(policy_net.state_dict())\n",
    "\n",
    "        \n",
    "em.close()"
   ]
  },
  {
   "cell_type": "markdown",
   "metadata": {
    "colab_type": "text",
    "id": "3bqv43vL5lVL"
   },
   "source": [
    "# Display Q-values\n"
   ]
  },
  {
   "cell_type": "code",
   "execution_count": null,
   "metadata": {
    "colab": {},
    "colab_type": "code",
    "id": "FOsGaXA43odT"
   },
   "outputs": [],
   "source": [
    "display_q_values()"
   ]
  },
  {
   "cell_type": "code",
   "execution_count": null,
   "metadata": {
    "colab": {},
    "colab_type": "code",
    "id": "DQhanFXwRWyB"
   },
   "outputs": [],
   "source": [
    "plot(episode_rewards, 100, eps, episode_rewards_exploit)"
   ]
  },
  {
   "cell_type": "markdown",
   "metadata": {
    "colab_type": "text",
    "id": "iml9oiGntsHN"
   },
   "source": [
    "# Test"
   ]
  },
  {
   "cell_type": "code",
   "execution_count": null,
   "metadata": {
    "colab": {},
    "colab_type": "code",
    "id": "izVAXLvAWD6F"
   },
   "outputs": [],
   "source": [
    "import time\n",
    "#map_joan, map_frozen_lake = [3,3,3,3,3,1,3,1,3,3,3,1,1,3,3,0],MAPS['4x4']\n",
    "#map_joan, map_frozen_lake = generate_random_map(size=4, p=random.uniform(0.1, 0.8)) \n",
    "#Environment manager\n",
    "em = FrozenLakeEnvManager(device, map_joan, map_frozen_lake)\n",
    "\n",
    "em.reset()\n",
    "em.render(\"image\")\n",
    "plt.pause(0.3)\n",
    "while(em.done == False):\n",
    "    state = em.get_state()\n",
    "    action = torch.tensor(policy_net(state).argmax(dim=1).to(device) ).to(device)\n",
    "    print(action)\n",
    "    reward = em.take_action(action,memory)\n",
    "    next_state = em.get_state()\n",
    "    state = next_state\n",
    "    \n",
    "    em.render(\"image\")\n",
    "    plt.pause(0.3)\n",
    "    print(em.done)"
   ]
  },
  {
   "cell_type": "code",
   "execution_count": null,
   "metadata": {
    "colab": {},
    "colab_type": "code",
    "id": "JUCkQ4SpIU-M"
   },
   "outputs": [],
   "source": [
    "save = False\n",
    "\n",
    "if(save):\n",
    "    filename = str(int(np.sqrt(len(em.original_map))))\n",
    "    if(SOFTMAX):\n",
    "        filename = filename +\"-SOFTMAX\"\n",
    "    if(EPSILON):\n",
    "        filename = filename +\"-EPSILON\"\n",
    "    if(COUNT):\n",
    "        filename = filename +\"-COUNT\"\n",
    "\n",
    "    import pickle\n",
    "    pickle.dump([episode_rewards,episode_rewards_exploit], open(filename, \"wb\"))\n",
    "\n",
    "    episode_rewards,episode_rewards_exploit = pickle.load(open(filename,\"rb\"))\n",
    "    print(filename)\n",
    "    plot(episode_rewards, 100, eps, episode_rewards_exploit)"
   ]
  },
  {
   "cell_type": "markdown",
   "metadata": {
    "colab_type": "text",
    "id": "Aq_NMxrhyqZ2"
   },
   "source": [
    "Save model"
   ]
  },
  {
   "cell_type": "code",
   "execution_count": null,
   "metadata": {
    "colab": {},
    "colab_type": "code",
    "id": "-UPuk_Rjytfa"
   },
   "outputs": [],
   "source": [
    "import time\n",
    "model_save_name = \"MODEL-\"+filename\n",
    "path = \"C:/Users/joanp/OneDrive/Escritorio/TFG_RESULTS/models/\"+model_save_name\n",
    "if(save):\n",
    "    torch.save(policy_net.state_dict(), path)\n"
   ]
  },
  {
   "cell_type": "markdown",
   "metadata": {
    "colab_type": "text",
    "id": "hMAyGWTE2xEK"
   },
   "source": [
    "Load model"
   ]
  },
  {
   "cell_type": "code",
   "execution_count": null,
   "metadata": {
    "colab": {},
    "colab_type": "code",
    "id": "rZMGD9Rk25O7"
   },
   "outputs": [],
   "source": [
    "load = False\n",
    "model_name = \"MODEL-6-SOFTMAX-COUNT\"\n",
    "model_path = \"C:/Users/joanp/OneDrive/Escritorio/TFG_RESULTS/models/\"+model_name\n",
    "if(load):\n",
    "    policy_net = DQN(1, em.num_actions_available()).to(device)\n",
    "    policy_net.load_state_dict(torch.load(model_path))\n",
    "    policy_net.eval()"
   ]
  }
 ],
 "metadata": {
  "accelerator": "GPU",
  "colab": {
   "collapsed_sections": [],
   "name": "DQL+COUNT for plots.ipynb",
   "private_outputs": true,
   "provenance": [],
   "toc_visible": true
  },
  "kernelspec": {
   "display_name": "Python 3",
   "language": "python",
   "name": "python3"
  },
  "language_info": {
   "codemirror_mode": {
    "name": "ipython",
    "version": 3
   },
   "file_extension": ".py",
   "mimetype": "text/x-python",
   "name": "python",
   "nbconvert_exporter": "python",
   "pygments_lexer": "ipython3",
   "version": "3.8.3"
  }
 },
 "nbformat": 4,
 "nbformat_minor": 1
}
